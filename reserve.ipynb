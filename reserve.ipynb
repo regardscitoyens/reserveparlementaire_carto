{
 "metadata": {
  "name": ""
 },
 "nbformat": 3,
 "nbformat_minor": 0,
 "worksheets": [
  {
   "cells": [
    {
     "cell_type": "code",
     "collapsed": false,
     "input": [
      "import pandas as pd\n",
      "import json"
     ],
     "language": "python",
     "metadata": {},
     "outputs": [],
     "prompt_number": 148
    },
    {
     "cell_type": "code",
     "collapsed": false,
     "input": [
      "df = pd.read_csv('data/reserve.csv', encoding='utf-8', sep=';')\n",
      "df['ID_DEPARTEMENT'] = df['ID_DEPARTEMENT'].apply(lambda code: \"%01s\"%code)"
     ],
     "language": "python",
     "metadata": {},
     "outputs": [],
     "prompt_number": 149
    },
    {
     "cell_type": "code",
     "collapsed": false,
     "input": [
      "df.GROUPE_SIGLE.unique()"
     ],
     "language": "python",
     "metadata": {},
     "outputs": [
      {
       "metadata": {},
       "output_type": "pyout",
       "prompt_number": 150,
       "text": [
        "array([u'UMP', u'SRC', nan, u'NI', u'RRDP', u'UDI', u'ECOLO', u'GDR'], dtype=object)"
       ]
      }
     ],
     "prompt_number": 150
    },
    {
     "cell_type": "code",
     "collapsed": false,
     "input": [
      "gp = df.groupby(['ID_DEPARTEMENT', 'GROUPE_SIGLE']).MONTANT_SUBVENTION.sum()"
     ],
     "language": "python",
     "metadata": {},
     "outputs": [],
     "prompt_number": 151
    },
    {
     "cell_type": "code",
     "collapsed": false,
     "input": [
      "ss = gp.ix['92']"
     ],
     "language": "python",
     "metadata": {},
     "outputs": [],
     "prompt_number": 152
    },
    {
     "cell_type": "code",
     "collapsed": false,
     "input": [
      "geojson = json.load(open('data/departments.json'))"
     ],
     "language": "python",
     "metadata": {},
     "outputs": [],
     "prompt_number": 153
    },
    {
     "cell_type": "code",
     "collapsed": false,
     "input": [
      "geojson.keys()"
     ],
     "language": "python",
     "metadata": {},
     "outputs": [
      {
       "metadata": {},
       "output_type": "pyout",
       "prompt_number": 154,
       "text": [
        "[u'type', u'features']"
       ]
      }
     ],
     "prompt_number": 154
    },
    {
     "cell_type": "code",
     "collapsed": false,
     "input": [
      "for feat in geojson[u'features']:\n",
      "    dep = feat['properties']['CODE_DEPT']\n",
      "    if dep in gp.index.get_level_values(0):\n",
      "        feat['properties']['montant'] = gp[dep].to_dict()\n",
      "        feat['properties']['montant']['total'] = gp[dep].sum()\n",
      "    else:\n",
      "        feat['properties']['montant'] = {'total': 0}"
     ],
     "language": "python",
     "metadata": {},
     "outputs": [],
     "prompt_number": 155
    },
    {
     "cell_type": "code",
     "collapsed": false,
     "input": [
      "json.dump(geojson, open('data/departments_with_reserve.json', 'wb'))"
     ],
     "language": "python",
     "metadata": {},
     "outputs": [],
     "prompt_number": 156
    },
    {
     "cell_type": "code",
     "collapsed": false,
     "input": [
      "gp"
     ],
     "language": "python",
     "metadata": {},
     "outputs": [
      {
       "metadata": {},
       "output_type": "pyout",
       "prompt_number": 157,
       "text": [
        "ID_DEPARTEMENT  GROUPE_SIGLE\n",
        "01              UMP             589855\n",
        "02              RRDP            134000\n",
        "                SRC             369295\n",
        "                UMP             126800\n",
        "03              RRDP            130000\n",
        "                SRC             260000\n",
        "04              SRC             246660\n",
        "05              RRDP            130000\n",
        "                SRC             130000\n",
        "06              UDI             124000\n",
        "                UMP             824541\n",
        "07              SRC             390000\n",
        "08              SRC             130000\n",
        "                UMP             278539\n",
        "09              SRC             258000\n",
        "...\n",
        "972             SRC             130000\n",
        "973             GDR             140000\n",
        "                SRC             130000\n",
        "974             GDR             130000\n",
        "                RRDP            130000\n",
        "                SRC             644600\n",
        "975             RRDP            170000\n",
        "976             SRC             260195\n",
        "977             UMP             141500\n",
        "986             SRC             146354\n",
        "987             UDI             305859\n",
        "988             UDI             241404\n",
        "999             ECOLO           120000\n",
        "                SRC             873230\n",
        "                UMP             309200\n",
        "Name: MONTANT_SUBVENTION, Length: 230, dtype: int64"
       ]
      }
     ],
     "prompt_number": 157
    },
    {
     "cell_type": "code",
     "collapsed": false,
     "input": [],
     "language": "python",
     "metadata": {},
     "outputs": []
    }
   ],
   "metadata": {}
  }
 ]
}